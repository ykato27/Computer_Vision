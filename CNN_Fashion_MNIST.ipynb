{
  "nbformat": 4,
  "nbformat_minor": 0,
  "metadata": {
    "colab": {
      "name": "CNN-Fashion-MNIST.ipynb",
      "provenance": [],
      "authorship_tag": "ABX9TyPx0A7lz2LFHxVGVIi7pgeo",
      "include_colab_link": true
    },
    "kernelspec": {
      "name": "python3",
      "display_name": "Python 3"
    },
    "language_info": {
      "name": "python"
    },
    "accelerator": "GPU",
    "widgets": {
      "application/vnd.jupyter.widget-state+json": {
        "a654095bd7404f56900f09664e9c8c89": {
          "model_module": "@jupyter-widgets/controls",
          "model_name": "HBoxModel",
          "state": {
            "_view_name": "HBoxView",
            "_dom_classes": [],
            "_model_name": "HBoxModel",
            "_view_module": "@jupyter-widgets/controls",
            "_model_module_version": "1.5.0",
            "_view_count": null,
            "_view_module_version": "1.5.0",
            "box_style": "",
            "layout": "IPY_MODEL_d5bc601675dd4e5c92251d1ed410e35d",
            "_model_module": "@jupyter-widgets/controls",
            "children": [
              "IPY_MODEL_c7a039e728d144f9b39d62d5a84a0115",
              "IPY_MODEL_2f48da0bfdad4f7c89b2728e4bdda383"
            ]
          }
        },
        "d5bc601675dd4e5c92251d1ed410e35d": {
          "model_module": "@jupyter-widgets/base",
          "model_name": "LayoutModel",
          "state": {
            "_view_name": "LayoutView",
            "grid_template_rows": null,
            "right": null,
            "justify_content": null,
            "_view_module": "@jupyter-widgets/base",
            "overflow": null,
            "_model_module_version": "1.2.0",
            "_view_count": null,
            "flex_flow": null,
            "width": null,
            "min_width": null,
            "border": null,
            "align_items": null,
            "bottom": null,
            "_model_module": "@jupyter-widgets/base",
            "top": null,
            "grid_column": null,
            "overflow_y": null,
            "overflow_x": null,
            "grid_auto_flow": null,
            "grid_area": null,
            "grid_template_columns": null,
            "flex": null,
            "_model_name": "LayoutModel",
            "justify_items": null,
            "grid_row": null,
            "max_height": null,
            "align_content": null,
            "visibility": null,
            "align_self": null,
            "height": null,
            "min_height": null,
            "padding": null,
            "grid_auto_rows": null,
            "grid_gap": null,
            "max_width": null,
            "order": null,
            "_view_module_version": "1.2.0",
            "grid_template_areas": null,
            "object_position": null,
            "object_fit": null,
            "grid_auto_columns": null,
            "margin": null,
            "display": null,
            "left": null
          }
        },
        "c7a039e728d144f9b39d62d5a84a0115": {
          "model_module": "@jupyter-widgets/controls",
          "model_name": "FloatProgressModel",
          "state": {
            "_view_name": "ProgressView",
            "style": "IPY_MODEL_9d66d728db8843dfb915c33a6325f47d",
            "_dom_classes": [],
            "description": "",
            "_model_name": "FloatProgressModel",
            "bar_style": "success",
            "max": 26421880,
            "_view_module": "@jupyter-widgets/controls",
            "_model_module_version": "1.5.0",
            "value": 26421880,
            "_view_count": null,
            "_view_module_version": "1.5.0",
            "orientation": "horizontal",
            "min": 0,
            "description_tooltip": null,
            "_model_module": "@jupyter-widgets/controls",
            "layout": "IPY_MODEL_97ec60dcc3be4bc0b2261f0cb5b9ae11"
          }
        },
        "2f48da0bfdad4f7c89b2728e4bdda383": {
          "model_module": "@jupyter-widgets/controls",
          "model_name": "HTMLModel",
          "state": {
            "_view_name": "HTMLView",
            "style": "IPY_MODEL_d313b6fd4ea843ebbb505600eb791ac6",
            "_dom_classes": [],
            "description": "",
            "_model_name": "HTMLModel",
            "placeholder": "​",
            "_view_module": "@jupyter-widgets/controls",
            "_model_module_version": "1.5.0",
            "value": " 26422272/? [00:10&lt;00:00, 2543308.41it/s]",
            "_view_count": null,
            "_view_module_version": "1.5.0",
            "description_tooltip": null,
            "_model_module": "@jupyter-widgets/controls",
            "layout": "IPY_MODEL_372bddc5d76c43a9a9f20b49e0b688ad"
          }
        },
        "9d66d728db8843dfb915c33a6325f47d": {
          "model_module": "@jupyter-widgets/controls",
          "model_name": "ProgressStyleModel",
          "state": {
            "_view_name": "StyleView",
            "_model_name": "ProgressStyleModel",
            "description_width": "initial",
            "_view_module": "@jupyter-widgets/base",
            "_model_module_version": "1.5.0",
            "_view_count": null,
            "_view_module_version": "1.2.0",
            "bar_color": null,
            "_model_module": "@jupyter-widgets/controls"
          }
        },
        "97ec60dcc3be4bc0b2261f0cb5b9ae11": {
          "model_module": "@jupyter-widgets/base",
          "model_name": "LayoutModel",
          "state": {
            "_view_name": "LayoutView",
            "grid_template_rows": null,
            "right": null,
            "justify_content": null,
            "_view_module": "@jupyter-widgets/base",
            "overflow": null,
            "_model_module_version": "1.2.0",
            "_view_count": null,
            "flex_flow": null,
            "width": null,
            "min_width": null,
            "border": null,
            "align_items": null,
            "bottom": null,
            "_model_module": "@jupyter-widgets/base",
            "top": null,
            "grid_column": null,
            "overflow_y": null,
            "overflow_x": null,
            "grid_auto_flow": null,
            "grid_area": null,
            "grid_template_columns": null,
            "flex": null,
            "_model_name": "LayoutModel",
            "justify_items": null,
            "grid_row": null,
            "max_height": null,
            "align_content": null,
            "visibility": null,
            "align_self": null,
            "height": null,
            "min_height": null,
            "padding": null,
            "grid_auto_rows": null,
            "grid_gap": null,
            "max_width": null,
            "order": null,
            "_view_module_version": "1.2.0",
            "grid_template_areas": null,
            "object_position": null,
            "object_fit": null,
            "grid_auto_columns": null,
            "margin": null,
            "display": null,
            "left": null
          }
        },
        "d313b6fd4ea843ebbb505600eb791ac6": {
          "model_module": "@jupyter-widgets/controls",
          "model_name": "DescriptionStyleModel",
          "state": {
            "_view_name": "StyleView",
            "_model_name": "DescriptionStyleModel",
            "description_width": "",
            "_view_module": "@jupyter-widgets/base",
            "_model_module_version": "1.5.0",
            "_view_count": null,
            "_view_module_version": "1.2.0",
            "_model_module": "@jupyter-widgets/controls"
          }
        },
        "372bddc5d76c43a9a9f20b49e0b688ad": {
          "model_module": "@jupyter-widgets/base",
          "model_name": "LayoutModel",
          "state": {
            "_view_name": "LayoutView",
            "grid_template_rows": null,
            "right": null,
            "justify_content": null,
            "_view_module": "@jupyter-widgets/base",
            "overflow": null,
            "_model_module_version": "1.2.0",
            "_view_count": null,
            "flex_flow": null,
            "width": null,
            "min_width": null,
            "border": null,
            "align_items": null,
            "bottom": null,
            "_model_module": "@jupyter-widgets/base",
            "top": null,
            "grid_column": null,
            "overflow_y": null,
            "overflow_x": null,
            "grid_auto_flow": null,
            "grid_area": null,
            "grid_template_columns": null,
            "flex": null,
            "_model_name": "LayoutModel",
            "justify_items": null,
            "grid_row": null,
            "max_height": null,
            "align_content": null,
            "visibility": null,
            "align_self": null,
            "height": null,
            "min_height": null,
            "padding": null,
            "grid_auto_rows": null,
            "grid_gap": null,
            "max_width": null,
            "order": null,
            "_view_module_version": "1.2.0",
            "grid_template_areas": null,
            "object_position": null,
            "object_fit": null,
            "grid_auto_columns": null,
            "margin": null,
            "display": null,
            "left": null
          }
        },
        "039aa21bec1f4ce791a878be066a70cf": {
          "model_module": "@jupyter-widgets/controls",
          "model_name": "HBoxModel",
          "state": {
            "_view_name": "HBoxView",
            "_dom_classes": [],
            "_model_name": "HBoxModel",
            "_view_module": "@jupyter-widgets/controls",
            "_model_module_version": "1.5.0",
            "_view_count": null,
            "_view_module_version": "1.5.0",
            "box_style": "",
            "layout": "IPY_MODEL_9d25b2a717914d55b55eb17bc7c381fd",
            "_model_module": "@jupyter-widgets/controls",
            "children": [
              "IPY_MODEL_bbc391930ab64fe09122219f12f54cff",
              "IPY_MODEL_2dc6f6e9fc6a46fe9da622cb4d16f444"
            ]
          }
        },
        "9d25b2a717914d55b55eb17bc7c381fd": {
          "model_module": "@jupyter-widgets/base",
          "model_name": "LayoutModel",
          "state": {
            "_view_name": "LayoutView",
            "grid_template_rows": null,
            "right": null,
            "justify_content": null,
            "_view_module": "@jupyter-widgets/base",
            "overflow": null,
            "_model_module_version": "1.2.0",
            "_view_count": null,
            "flex_flow": null,
            "width": null,
            "min_width": null,
            "border": null,
            "align_items": null,
            "bottom": null,
            "_model_module": "@jupyter-widgets/base",
            "top": null,
            "grid_column": null,
            "overflow_y": null,
            "overflow_x": null,
            "grid_auto_flow": null,
            "grid_area": null,
            "grid_template_columns": null,
            "flex": null,
            "_model_name": "LayoutModel",
            "justify_items": null,
            "grid_row": null,
            "max_height": null,
            "align_content": null,
            "visibility": null,
            "align_self": null,
            "height": null,
            "min_height": null,
            "padding": null,
            "grid_auto_rows": null,
            "grid_gap": null,
            "max_width": null,
            "order": null,
            "_view_module_version": "1.2.0",
            "grid_template_areas": null,
            "object_position": null,
            "object_fit": null,
            "grid_auto_columns": null,
            "margin": null,
            "display": null,
            "left": null
          }
        },
        "bbc391930ab64fe09122219f12f54cff": {
          "model_module": "@jupyter-widgets/controls",
          "model_name": "FloatProgressModel",
          "state": {
            "_view_name": "ProgressView",
            "style": "IPY_MODEL_dfabafc2f00546dfb3bddf5d9eed37cb",
            "_dom_classes": [],
            "description": "",
            "_model_name": "FloatProgressModel",
            "bar_style": "success",
            "max": 29515,
            "_view_module": "@jupyter-widgets/controls",
            "_model_module_version": "1.5.0",
            "value": 29515,
            "_view_count": null,
            "_view_module_version": "1.5.0",
            "orientation": "horizontal",
            "min": 0,
            "description_tooltip": null,
            "_model_module": "@jupyter-widgets/controls",
            "layout": "IPY_MODEL_0e98b59330a04f8daeed2ee81c7baa2a"
          }
        },
        "2dc6f6e9fc6a46fe9da622cb4d16f444": {
          "model_module": "@jupyter-widgets/controls",
          "model_name": "HTMLModel",
          "state": {
            "_view_name": "HTMLView",
            "style": "IPY_MODEL_00124cdcc45440a4b6a5a725e4a58866",
            "_dom_classes": [],
            "description": "",
            "_model_name": "HTMLModel",
            "placeholder": "​",
            "_view_module": "@jupyter-widgets/controls",
            "_model_module_version": "1.5.0",
            "value": " 29696/? [00:06&lt;00:00, 4242.30it/s]",
            "_view_count": null,
            "_view_module_version": "1.5.0",
            "description_tooltip": null,
            "_model_module": "@jupyter-widgets/controls",
            "layout": "IPY_MODEL_8aebd4cb5d674d41b5ec68716b2e7a3b"
          }
        },
        "dfabafc2f00546dfb3bddf5d9eed37cb": {
          "model_module": "@jupyter-widgets/controls",
          "model_name": "ProgressStyleModel",
          "state": {
            "_view_name": "StyleView",
            "_model_name": "ProgressStyleModel",
            "description_width": "initial",
            "_view_module": "@jupyter-widgets/base",
            "_model_module_version": "1.5.0",
            "_view_count": null,
            "_view_module_version": "1.2.0",
            "bar_color": null,
            "_model_module": "@jupyter-widgets/controls"
          }
        },
        "0e98b59330a04f8daeed2ee81c7baa2a": {
          "model_module": "@jupyter-widgets/base",
          "model_name": "LayoutModel",
          "state": {
            "_view_name": "LayoutView",
            "grid_template_rows": null,
            "right": null,
            "justify_content": null,
            "_view_module": "@jupyter-widgets/base",
            "overflow": null,
            "_model_module_version": "1.2.0",
            "_view_count": null,
            "flex_flow": null,
            "width": null,
            "min_width": null,
            "border": null,
            "align_items": null,
            "bottom": null,
            "_model_module": "@jupyter-widgets/base",
            "top": null,
            "grid_column": null,
            "overflow_y": null,
            "overflow_x": null,
            "grid_auto_flow": null,
            "grid_area": null,
            "grid_template_columns": null,
            "flex": null,
            "_model_name": "LayoutModel",
            "justify_items": null,
            "grid_row": null,
            "max_height": null,
            "align_content": null,
            "visibility": null,
            "align_self": null,
            "height": null,
            "min_height": null,
            "padding": null,
            "grid_auto_rows": null,
            "grid_gap": null,
            "max_width": null,
            "order": null,
            "_view_module_version": "1.2.0",
            "grid_template_areas": null,
            "object_position": null,
            "object_fit": null,
            "grid_auto_columns": null,
            "margin": null,
            "display": null,
            "left": null
          }
        },
        "00124cdcc45440a4b6a5a725e4a58866": {
          "model_module": "@jupyter-widgets/controls",
          "model_name": "DescriptionStyleModel",
          "state": {
            "_view_name": "StyleView",
            "_model_name": "DescriptionStyleModel",
            "description_width": "",
            "_view_module": "@jupyter-widgets/base",
            "_model_module_version": "1.5.0",
            "_view_count": null,
            "_view_module_version": "1.2.0",
            "_model_module": "@jupyter-widgets/controls"
          }
        },
        "8aebd4cb5d674d41b5ec68716b2e7a3b": {
          "model_module": "@jupyter-widgets/base",
          "model_name": "LayoutModel",
          "state": {
            "_view_name": "LayoutView",
            "grid_template_rows": null,
            "right": null,
            "justify_content": null,
            "_view_module": "@jupyter-widgets/base",
            "overflow": null,
            "_model_module_version": "1.2.0",
            "_view_count": null,
            "flex_flow": null,
            "width": null,
            "min_width": null,
            "border": null,
            "align_items": null,
            "bottom": null,
            "_model_module": "@jupyter-widgets/base",
            "top": null,
            "grid_column": null,
            "overflow_y": null,
            "overflow_x": null,
            "grid_auto_flow": null,
            "grid_area": null,
            "grid_template_columns": null,
            "flex": null,
            "_model_name": "LayoutModel",
            "justify_items": null,
            "grid_row": null,
            "max_height": null,
            "align_content": null,
            "visibility": null,
            "align_self": null,
            "height": null,
            "min_height": null,
            "padding": null,
            "grid_auto_rows": null,
            "grid_gap": null,
            "max_width": null,
            "order": null,
            "_view_module_version": "1.2.0",
            "grid_template_areas": null,
            "object_position": null,
            "object_fit": null,
            "grid_auto_columns": null,
            "margin": null,
            "display": null,
            "left": null
          }
        },
        "b4fb0b2c4ee94bad874496e9df7bcf8e": {
          "model_module": "@jupyter-widgets/controls",
          "model_name": "HBoxModel",
          "state": {
            "_view_name": "HBoxView",
            "_dom_classes": [],
            "_model_name": "HBoxModel",
            "_view_module": "@jupyter-widgets/controls",
            "_model_module_version": "1.5.0",
            "_view_count": null,
            "_view_module_version": "1.5.0",
            "box_style": "",
            "layout": "IPY_MODEL_96cbcc7801d74fbd84c76da599231dc9",
            "_model_module": "@jupyter-widgets/controls",
            "children": [
              "IPY_MODEL_d87887c07f9c45568a04ee9f40fdd427",
              "IPY_MODEL_54fe8d0383524c7080810d78108c56e8"
            ]
          }
        },
        "96cbcc7801d74fbd84c76da599231dc9": {
          "model_module": "@jupyter-widgets/base",
          "model_name": "LayoutModel",
          "state": {
            "_view_name": "LayoutView",
            "grid_template_rows": null,
            "right": null,
            "justify_content": null,
            "_view_module": "@jupyter-widgets/base",
            "overflow": null,
            "_model_module_version": "1.2.0",
            "_view_count": null,
            "flex_flow": null,
            "width": null,
            "min_width": null,
            "border": null,
            "align_items": null,
            "bottom": null,
            "_model_module": "@jupyter-widgets/base",
            "top": null,
            "grid_column": null,
            "overflow_y": null,
            "overflow_x": null,
            "grid_auto_flow": null,
            "grid_area": null,
            "grid_template_columns": null,
            "flex": null,
            "_model_name": "LayoutModel",
            "justify_items": null,
            "grid_row": null,
            "max_height": null,
            "align_content": null,
            "visibility": null,
            "align_self": null,
            "height": null,
            "min_height": null,
            "padding": null,
            "grid_auto_rows": null,
            "grid_gap": null,
            "max_width": null,
            "order": null,
            "_view_module_version": "1.2.0",
            "grid_template_areas": null,
            "object_position": null,
            "object_fit": null,
            "grid_auto_columns": null,
            "margin": null,
            "display": null,
            "left": null
          }
        },
        "d87887c07f9c45568a04ee9f40fdd427": {
          "model_module": "@jupyter-widgets/controls",
          "model_name": "FloatProgressModel",
          "state": {
            "_view_name": "ProgressView",
            "style": "IPY_MODEL_78c5ab37e66345a48e84d209e6229fa8",
            "_dom_classes": [],
            "description": "",
            "_model_name": "FloatProgressModel",
            "bar_style": "success",
            "max": 4422102,
            "_view_module": "@jupyter-widgets/controls",
            "_model_module_version": "1.5.0",
            "value": 4422102,
            "_view_count": null,
            "_view_module_version": "1.5.0",
            "orientation": "horizontal",
            "min": 0,
            "description_tooltip": null,
            "_model_module": "@jupyter-widgets/controls",
            "layout": "IPY_MODEL_a4d413d19adb4694b4b38aa1d144db9d"
          }
        },
        "54fe8d0383524c7080810d78108c56e8": {
          "model_module": "@jupyter-widgets/controls",
          "model_name": "HTMLModel",
          "state": {
            "_view_name": "HTMLView",
            "style": "IPY_MODEL_75fef65aaa9549b88978cdb13b2b4b91",
            "_dom_classes": [],
            "description": "",
            "_model_name": "HTMLModel",
            "placeholder": "​",
            "_view_module": "@jupyter-widgets/controls",
            "_model_module_version": "1.5.0",
            "value": " 4422656/? [00:06&lt;00:00, 712649.75it/s]",
            "_view_count": null,
            "_view_module_version": "1.5.0",
            "description_tooltip": null,
            "_model_module": "@jupyter-widgets/controls",
            "layout": "IPY_MODEL_0ec6d2002c0844eeaea3d6fe44692b82"
          }
        },
        "78c5ab37e66345a48e84d209e6229fa8": {
          "model_module": "@jupyter-widgets/controls",
          "model_name": "ProgressStyleModel",
          "state": {
            "_view_name": "StyleView",
            "_model_name": "ProgressStyleModel",
            "description_width": "initial",
            "_view_module": "@jupyter-widgets/base",
            "_model_module_version": "1.5.0",
            "_view_count": null,
            "_view_module_version": "1.2.0",
            "bar_color": null,
            "_model_module": "@jupyter-widgets/controls"
          }
        },
        "a4d413d19adb4694b4b38aa1d144db9d": {
          "model_module": "@jupyter-widgets/base",
          "model_name": "LayoutModel",
          "state": {
            "_view_name": "LayoutView",
            "grid_template_rows": null,
            "right": null,
            "justify_content": null,
            "_view_module": "@jupyter-widgets/base",
            "overflow": null,
            "_model_module_version": "1.2.0",
            "_view_count": null,
            "flex_flow": null,
            "width": null,
            "min_width": null,
            "border": null,
            "align_items": null,
            "bottom": null,
            "_model_module": "@jupyter-widgets/base",
            "top": null,
            "grid_column": null,
            "overflow_y": null,
            "overflow_x": null,
            "grid_auto_flow": null,
            "grid_area": null,
            "grid_template_columns": null,
            "flex": null,
            "_model_name": "LayoutModel",
            "justify_items": null,
            "grid_row": null,
            "max_height": null,
            "align_content": null,
            "visibility": null,
            "align_self": null,
            "height": null,
            "min_height": null,
            "padding": null,
            "grid_auto_rows": null,
            "grid_gap": null,
            "max_width": null,
            "order": null,
            "_view_module_version": "1.2.0",
            "grid_template_areas": null,
            "object_position": null,
            "object_fit": null,
            "grid_auto_columns": null,
            "margin": null,
            "display": null,
            "left": null
          }
        },
        "75fef65aaa9549b88978cdb13b2b4b91": {
          "model_module": "@jupyter-widgets/controls",
          "model_name": "DescriptionStyleModel",
          "state": {
            "_view_name": "StyleView",
            "_model_name": "DescriptionStyleModel",
            "description_width": "",
            "_view_module": "@jupyter-widgets/base",
            "_model_module_version": "1.5.0",
            "_view_count": null,
            "_view_module_version": "1.2.0",
            "_model_module": "@jupyter-widgets/controls"
          }
        },
        "0ec6d2002c0844eeaea3d6fe44692b82": {
          "model_module": "@jupyter-widgets/base",
          "model_name": "LayoutModel",
          "state": {
            "_view_name": "LayoutView",
            "grid_template_rows": null,
            "right": null,
            "justify_content": null,
            "_view_module": "@jupyter-widgets/base",
            "overflow": null,
            "_model_module_version": "1.2.0",
            "_view_count": null,
            "flex_flow": null,
            "width": null,
            "min_width": null,
            "border": null,
            "align_items": null,
            "bottom": null,
            "_model_module": "@jupyter-widgets/base",
            "top": null,
            "grid_column": null,
            "overflow_y": null,
            "overflow_x": null,
            "grid_auto_flow": null,
            "grid_area": null,
            "grid_template_columns": null,
            "flex": null,
            "_model_name": "LayoutModel",
            "justify_items": null,
            "grid_row": null,
            "max_height": null,
            "align_content": null,
            "visibility": null,
            "align_self": null,
            "height": null,
            "min_height": null,
            "padding": null,
            "grid_auto_rows": null,
            "grid_gap": null,
            "max_width": null,
            "order": null,
            "_view_module_version": "1.2.0",
            "grid_template_areas": null,
            "object_position": null,
            "object_fit": null,
            "grid_auto_columns": null,
            "margin": null,
            "display": null,
            "left": null
          }
        },
        "7670159ffbab46a582fe5349bbc0e45a": {
          "model_module": "@jupyter-widgets/controls",
          "model_name": "HBoxModel",
          "state": {
            "_view_name": "HBoxView",
            "_dom_classes": [],
            "_model_name": "HBoxModel",
            "_view_module": "@jupyter-widgets/controls",
            "_model_module_version": "1.5.0",
            "_view_count": null,
            "_view_module_version": "1.5.0",
            "box_style": "",
            "layout": "IPY_MODEL_c5d25a70da4b49599b9857b0172f2153",
            "_model_module": "@jupyter-widgets/controls",
            "children": [
              "IPY_MODEL_e49987db707047e8b282637ebe20ee39",
              "IPY_MODEL_b880144f5f8940339507fe0c7fa5a8c7"
            ]
          }
        },
        "c5d25a70da4b49599b9857b0172f2153": {
          "model_module": "@jupyter-widgets/base",
          "model_name": "LayoutModel",
          "state": {
            "_view_name": "LayoutView",
            "grid_template_rows": null,
            "right": null,
            "justify_content": null,
            "_view_module": "@jupyter-widgets/base",
            "overflow": null,
            "_model_module_version": "1.2.0",
            "_view_count": null,
            "flex_flow": null,
            "width": null,
            "min_width": null,
            "border": null,
            "align_items": null,
            "bottom": null,
            "_model_module": "@jupyter-widgets/base",
            "top": null,
            "grid_column": null,
            "overflow_y": null,
            "overflow_x": null,
            "grid_auto_flow": null,
            "grid_area": null,
            "grid_template_columns": null,
            "flex": null,
            "_model_name": "LayoutModel",
            "justify_items": null,
            "grid_row": null,
            "max_height": null,
            "align_content": null,
            "visibility": null,
            "align_self": null,
            "height": null,
            "min_height": null,
            "padding": null,
            "grid_auto_rows": null,
            "grid_gap": null,
            "max_width": null,
            "order": null,
            "_view_module_version": "1.2.0",
            "grid_template_areas": null,
            "object_position": null,
            "object_fit": null,
            "grid_auto_columns": null,
            "margin": null,
            "display": null,
            "left": null
          }
        },
        "e49987db707047e8b282637ebe20ee39": {
          "model_module": "@jupyter-widgets/controls",
          "model_name": "FloatProgressModel",
          "state": {
            "_view_name": "ProgressView",
            "style": "IPY_MODEL_652c55ffcd444650b829ef40d0a1f6a6",
            "_dom_classes": [],
            "description": "",
            "_model_name": "FloatProgressModel",
            "bar_style": "success",
            "max": 5148,
            "_view_module": "@jupyter-widgets/controls",
            "_model_module_version": "1.5.0",
            "value": 5148,
            "_view_count": null,
            "_view_module_version": "1.5.0",
            "orientation": "horizontal",
            "min": 0,
            "description_tooltip": null,
            "_model_module": "@jupyter-widgets/controls",
            "layout": "IPY_MODEL_7ceb45bdd8be4b17b64e384a51989b73"
          }
        },
        "b880144f5f8940339507fe0c7fa5a8c7": {
          "model_module": "@jupyter-widgets/controls",
          "model_name": "HTMLModel",
          "state": {
            "_view_name": "HTMLView",
            "style": "IPY_MODEL_a4a912bf35134a62beb81f06dcf6cb3b",
            "_dom_classes": [],
            "description": "",
            "_model_name": "HTMLModel",
            "placeholder": "​",
            "_view_module": "@jupyter-widgets/controls",
            "_model_module_version": "1.5.0",
            "value": " 6144/? [00:04&lt;00:00, 1426.20it/s]",
            "_view_count": null,
            "_view_module_version": "1.5.0",
            "description_tooltip": null,
            "_model_module": "@jupyter-widgets/controls",
            "layout": "IPY_MODEL_745473583b0044599864e195f0f77213"
          }
        },
        "652c55ffcd444650b829ef40d0a1f6a6": {
          "model_module": "@jupyter-widgets/controls",
          "model_name": "ProgressStyleModel",
          "state": {
            "_view_name": "StyleView",
            "_model_name": "ProgressStyleModel",
            "description_width": "initial",
            "_view_module": "@jupyter-widgets/base",
            "_model_module_version": "1.5.0",
            "_view_count": null,
            "_view_module_version": "1.2.0",
            "bar_color": null,
            "_model_module": "@jupyter-widgets/controls"
          }
        },
        "7ceb45bdd8be4b17b64e384a51989b73": {
          "model_module": "@jupyter-widgets/base",
          "model_name": "LayoutModel",
          "state": {
            "_view_name": "LayoutView",
            "grid_template_rows": null,
            "right": null,
            "justify_content": null,
            "_view_module": "@jupyter-widgets/base",
            "overflow": null,
            "_model_module_version": "1.2.0",
            "_view_count": null,
            "flex_flow": null,
            "width": null,
            "min_width": null,
            "border": null,
            "align_items": null,
            "bottom": null,
            "_model_module": "@jupyter-widgets/base",
            "top": null,
            "grid_column": null,
            "overflow_y": null,
            "overflow_x": null,
            "grid_auto_flow": null,
            "grid_area": null,
            "grid_template_columns": null,
            "flex": null,
            "_model_name": "LayoutModel",
            "justify_items": null,
            "grid_row": null,
            "max_height": null,
            "align_content": null,
            "visibility": null,
            "align_self": null,
            "height": null,
            "min_height": null,
            "padding": null,
            "grid_auto_rows": null,
            "grid_gap": null,
            "max_width": null,
            "order": null,
            "_view_module_version": "1.2.0",
            "grid_template_areas": null,
            "object_position": null,
            "object_fit": null,
            "grid_auto_columns": null,
            "margin": null,
            "display": null,
            "left": null
          }
        },
        "a4a912bf35134a62beb81f06dcf6cb3b": {
          "model_module": "@jupyter-widgets/controls",
          "model_name": "DescriptionStyleModel",
          "state": {
            "_view_name": "StyleView",
            "_model_name": "DescriptionStyleModel",
            "description_width": "",
            "_view_module": "@jupyter-widgets/base",
            "_model_module_version": "1.5.0",
            "_view_count": null,
            "_view_module_version": "1.2.0",
            "_model_module": "@jupyter-widgets/controls"
          }
        },
        "745473583b0044599864e195f0f77213": {
          "model_module": "@jupyter-widgets/base",
          "model_name": "LayoutModel",
          "state": {
            "_view_name": "LayoutView",
            "grid_template_rows": null,
            "right": null,
            "justify_content": null,
            "_view_module": "@jupyter-widgets/base",
            "overflow": null,
            "_model_module_version": "1.2.0",
            "_view_count": null,
            "flex_flow": null,
            "width": null,
            "min_width": null,
            "border": null,
            "align_items": null,
            "bottom": null,
            "_model_module": "@jupyter-widgets/base",
            "top": null,
            "grid_column": null,
            "overflow_y": null,
            "overflow_x": null,
            "grid_auto_flow": null,
            "grid_area": null,
            "grid_template_columns": null,
            "flex": null,
            "_model_name": "LayoutModel",
            "justify_items": null,
            "grid_row": null,
            "max_height": null,
            "align_content": null,
            "visibility": null,
            "align_self": null,
            "height": null,
            "min_height": null,
            "padding": null,
            "grid_auto_rows": null,
            "grid_gap": null,
            "max_width": null,
            "order": null,
            "_view_module_version": "1.2.0",
            "grid_template_areas": null,
            "object_position": null,
            "object_fit": null,
            "grid_auto_columns": null,
            "margin": null,
            "display": null,
            "left": null
          }
        }
      }
    }
  },
  "cells": [
    {
      "cell_type": "markdown",
      "metadata": {
        "id": "view-in-github",
        "colab_type": "text"
      },
      "source": [
        "<a href=\"https://colab.research.google.com/github/ykato27/Image-Classification/blob/main/CNN_Fashion_MNIST.ipynb\" target=\"_parent\"><img src=\"https://colab.research.google.com/assets/colab-badge.svg\" alt=\"Open In Colab\"/></a>"
      ]
    },
    {
      "cell_type": "code",
      "metadata": {
        "id": "4SCgZUoiasv3"
      },
      "source": [
        "from collections import defaultdict\n",
        "\n",
        "import matplotlib.pyplot as plt\n",
        "import numpy as np\n",
        "import torch\n",
        "import torch.nn as nn\n",
        "import torchvision.datasets as datasets\n",
        "import torchvision.transforms as transforms"
      ],
      "execution_count": 1,
      "outputs": []
    },
    {
      "cell_type": "markdown",
      "metadata": {
        "id": "riq2_X-VbxDo"
      },
      "source": [
        "## Fashion-MNISTとは\n",
        "- Fashion-MNIST は、オンラインショップ Zalando 上の衣類の画像から作成されたデータセット\n",
        "- 6万枚の学習データ、1万枚のテストデータで構成されている\n",
        "- 各サンプルは大きさが 28×28 のグレースケール画像で、10クラスのいずれかがラベル付けされている"
      ]
    },
    {
      "cell_type": "markdown",
      "metadata": {
        "id": "xcMGmDR_cIge"
      },
      "source": [
        "## Fashion-MNIST読み込み\n",
        "- 引数\n",
        "    - root: データセットを保存するディレクトリのパスを指定します。\n",
        "    - train: True を指定した場合は学習データ、False を指定した場合はテストデータをダウンロードします。\n",
        "    - transform: 画像に対して行う前処理を指定します。今回は、transforms.ToTensor のみを指定しました。 この Transformer は、画素値を範囲が [0, 255] の uint8 型から範囲が [0, 1] の float32 型にし、Pytorch で扱う Tensor に変換を行います。\n",
        "    - download: True を指定した場合は、データセットがローカルにない場合は、ネットからダウンロードします。"
      ]
    },
    {
      "cell_type": "code",
      "metadata": {
        "colab": {
          "base_uri": "https://localhost:8080/",
          "height": 573,
          "referenced_widgets": [
            "a654095bd7404f56900f09664e9c8c89",
            "d5bc601675dd4e5c92251d1ed410e35d",
            "c7a039e728d144f9b39d62d5a84a0115",
            "2f48da0bfdad4f7c89b2728e4bdda383",
            "9d66d728db8843dfb915c33a6325f47d",
            "97ec60dcc3be4bc0b2261f0cb5b9ae11",
            "d313b6fd4ea843ebbb505600eb791ac6",
            "372bddc5d76c43a9a9f20b49e0b688ad",
            "039aa21bec1f4ce791a878be066a70cf",
            "9d25b2a717914d55b55eb17bc7c381fd",
            "bbc391930ab64fe09122219f12f54cff",
            "2dc6f6e9fc6a46fe9da622cb4d16f444",
            "dfabafc2f00546dfb3bddf5d9eed37cb",
            "0e98b59330a04f8daeed2ee81c7baa2a",
            "00124cdcc45440a4b6a5a725e4a58866",
            "8aebd4cb5d674d41b5ec68716b2e7a3b",
            "b4fb0b2c4ee94bad874496e9df7bcf8e",
            "96cbcc7801d74fbd84c76da599231dc9",
            "d87887c07f9c45568a04ee9f40fdd427",
            "54fe8d0383524c7080810d78108c56e8",
            "78c5ab37e66345a48e84d209e6229fa8",
            "a4d413d19adb4694b4b38aa1d144db9d",
            "75fef65aaa9549b88978cdb13b2b4b91",
            "0ec6d2002c0844eeaea3d6fe44692b82",
            "7670159ffbab46a582fe5349bbc0e45a",
            "c5d25a70da4b49599b9857b0172f2153",
            "e49987db707047e8b282637ebe20ee39",
            "b880144f5f8940339507fe0c7fa5a8c7",
            "652c55ffcd444650b829ef40d0a1f6a6",
            "7ceb45bdd8be4b17b64e384a51989b73",
            "a4a912bf35134a62beb81f06dcf6cb3b",
            "745473583b0044599864e195f0f77213"
          ]
        },
        "id": "uB-xSEwca17c",
        "outputId": "931ca0d1-62fd-4fb4-92d0-6318f61ff40a"
      },
      "source": [
        "data_transform = transforms.ToTensor()\n",
        "\n",
        "# 学習データを読み込む DataLoader を作成する。\n",
        "train_dataset = datasets.FashionMNIST(\n",
        "    root=\"datasets\", train=True, transform=data_transform, download=True\n",
        ")\n",
        "train_data_loader = torch.utils.data.DataLoader(\n",
        "    train_dataset, batch_size=64, shuffle=True\n",
        ")\n",
        "\n",
        "# テストデータを読み込む DataLoader を作成する。\n",
        "test_dataset = datasets.FashionMNIST(\n",
        "    root=\"datasets\", train=False, transform=data_transform, download=True\n",
        ")\n",
        "test_data_loader = torch.utils.data.DataLoader(\n",
        "    test_dataset, batch_size=64, shuffle=True\n",
        ")"
      ],
      "execution_count": 2,
      "outputs": [
        {
          "output_type": "stream",
          "text": [
            "Downloading http://fashion-mnist.s3-website.eu-central-1.amazonaws.com/train-images-idx3-ubyte.gz\n",
            "Downloading http://fashion-mnist.s3-website.eu-central-1.amazonaws.com/train-images-idx3-ubyte.gz to datasets/FashionMNIST/raw/train-images-idx3-ubyte.gz\n"
          ],
          "name": "stdout"
        },
        {
          "output_type": "display_data",
          "data": {
            "application/vnd.jupyter.widget-view+json": {
              "model_id": "a654095bd7404f56900f09664e9c8c89",
              "version_minor": 0,
              "version_major": 2
            },
            "text/plain": [
              "HBox(children=(FloatProgress(value=0.0, max=26421880.0), HTML(value='')))"
            ]
          },
          "metadata": {
            "tags": []
          }
        },
        {
          "output_type": "stream",
          "text": [
            "\n",
            "Extracting datasets/FashionMNIST/raw/train-images-idx3-ubyte.gz to datasets/FashionMNIST/raw\n",
            "\n",
            "Downloading http://fashion-mnist.s3-website.eu-central-1.amazonaws.com/train-labels-idx1-ubyte.gz\n",
            "Downloading http://fashion-mnist.s3-website.eu-central-1.amazonaws.com/train-labels-idx1-ubyte.gz to datasets/FashionMNIST/raw/train-labels-idx1-ubyte.gz\n"
          ],
          "name": "stdout"
        },
        {
          "output_type": "display_data",
          "data": {
            "application/vnd.jupyter.widget-view+json": {
              "model_id": "039aa21bec1f4ce791a878be066a70cf",
              "version_minor": 0,
              "version_major": 2
            },
            "text/plain": [
              "HBox(children=(FloatProgress(value=0.0, max=29515.0), HTML(value='')))"
            ]
          },
          "metadata": {
            "tags": []
          }
        },
        {
          "output_type": "stream",
          "text": [
            "\n",
            "Extracting datasets/FashionMNIST/raw/train-labels-idx1-ubyte.gz to datasets/FashionMNIST/raw\n",
            "\n",
            "Downloading http://fashion-mnist.s3-website.eu-central-1.amazonaws.com/t10k-images-idx3-ubyte.gz\n",
            "Downloading http://fashion-mnist.s3-website.eu-central-1.amazonaws.com/t10k-images-idx3-ubyte.gz to datasets/FashionMNIST/raw/t10k-images-idx3-ubyte.gz\n"
          ],
          "name": "stdout"
        },
        {
          "output_type": "display_data",
          "data": {
            "application/vnd.jupyter.widget-view+json": {
              "model_id": "b4fb0b2c4ee94bad874496e9df7bcf8e",
              "version_minor": 0,
              "version_major": 2
            },
            "text/plain": [
              "HBox(children=(FloatProgress(value=0.0, max=4422102.0), HTML(value='')))"
            ]
          },
          "metadata": {
            "tags": []
          }
        },
        {
          "output_type": "stream",
          "text": [
            "\n",
            "Extracting datasets/FashionMNIST/raw/t10k-images-idx3-ubyte.gz to datasets/FashionMNIST/raw\n",
            "\n",
            "Downloading http://fashion-mnist.s3-website.eu-central-1.amazonaws.com/t10k-labels-idx1-ubyte.gz\n",
            "Downloading http://fashion-mnist.s3-website.eu-central-1.amazonaws.com/t10k-labels-idx1-ubyte.gz to datasets/FashionMNIST/raw/t10k-labels-idx1-ubyte.gz\n"
          ],
          "name": "stdout"
        },
        {
          "output_type": "display_data",
          "data": {
            "application/vnd.jupyter.widget-view+json": {
              "model_id": "7670159ffbab46a582fe5349bbc0e45a",
              "version_minor": 0,
              "version_major": 2
            },
            "text/plain": [
              "HBox(children=(FloatProgress(value=0.0, max=5148.0), HTML(value='')))"
            ]
          },
          "metadata": {
            "tags": []
          }
        },
        {
          "output_type": "stream",
          "text": [
            "\n",
            "Extracting datasets/FashionMNIST/raw/t10k-labels-idx1-ubyte.gz to datasets/FashionMNIST/raw\n",
            "\n",
            "Processing...\n",
            "Done!\n"
          ],
          "name": "stdout"
        },
        {
          "output_type": "stream",
          "text": [
            "/usr/local/lib/python3.7/dist-packages/torchvision/datasets/mnist.py:502: UserWarning: The given NumPy array is not writeable, and PyTorch does not support non-writeable tensors. This means you can write to the underlying (supposedly non-writeable) NumPy array using the tensor. You may want to copy the array to protect its data or make it writeable before converting it to a tensor. This type of warning will be suppressed for the rest of this program. (Triggered internally at  /pytorch/torch/csrc/utils/tensor_numpy.cpp:143.)\n",
            "  return torch.from_numpy(parsed.astype(m[2], copy=False)).view(*s)\n"
          ],
          "name": "stderr"
        }
      ]
    },
    {
      "cell_type": "markdown",
      "metadata": {
        "id": "IVGdftQFcYWv"
      },
      "source": [
        "## Fashion-MNISTの中身\n",
        "- FashionMNIST.classes (list): クラス名一覧\n",
        "- FashionMNIST.class_to_idx (dict): クラス名、値がクラス ID の辞書\n",
        "- FashionMNIST.data (Tensor): 画像一覧\n",
        "- FashionMNIST.targets (Tensor): ラベル一覧"
      ]
    },
    {
      "cell_type": "code",
      "metadata": {
        "colab": {
          "base_uri": "https://localhost:8080/",
          "height": 276
        },
        "id": "U0o5xjkwa585",
        "outputId": "43bc1778-39ee-4bc8-8b00-a5fcea82bfe8"
      },
      "source": [
        "# 各クラスのラベルを持つサンプルを1つずつ取得する。\n",
        "class_ids, sample_indices = np.unique(train_dataset.targets, return_index=True)\n",
        "\n",
        "fig = plt.figure(figsize=(10, 4))\n",
        "fig.suptitle(\n",
        "    \"Examples of every class in the Fashion-MNIST dataset\", fontsize=\"x-large\"\n",
        ")\n",
        "\n",
        "for i in class_ids:\n",
        "    img = train_dataset.data[sample_indices[i]]\n",
        "    class_name = train_dataset.classes[i]\n",
        "\n",
        "    ax = fig.add_subplot(2, 5, i + 1)\n",
        "    ax.set_title(f\"{i}: {class_name}\")\n",
        "    ax.set_axis_off()\n",
        "    ax.imshow(img, cmap=\"gray\")\n",
        "\n",
        "plt.show()"
      ],
      "execution_count": 3,
      "outputs": [
        {
          "output_type": "display_data",
          "data": {
            "image/png": "[encoded data removed]",
            "text/plain": [
              "<Figure size 720x288 with 10 Axes>"
            ]
          },
          "metadata": {
            "tags": [],
            "needs_background": "light"
          }
        }
      ]
    },
    {
      "cell_type": "code",
      "metadata": {
        "id": "s_0i77OGa877"
      },
      "source": [
        "class Net(nn.Module):\n",
        "    def __init__(self):\n",
        "        super().__init__()\n",
        "        self.features = nn.Sequential(\n",
        "            nn.Conv2d(1, 32, kernel_size=3, padding=1),\n",
        "            nn.ReLU(),\n",
        "            nn.MaxPool2d(kernel_size=2),\n",
        "            nn.Conv2d(32, 64, kernel_size=3, padding=1),\n",
        "            nn.ReLU(),\n",
        "            nn.MaxPool2d(kernel_size=2),\n",
        "        )\n",
        "\n",
        "        self.classifier = nn.Sequential(\n",
        "            nn.Dropout(),\n",
        "            nn.Linear(64 * 7 * 7, 128),\n",
        "            nn.ReLU(),\n",
        "            nn.Dropout(),\n",
        "            nn.Linear(128, 10),\n",
        "            nn.LogSoftmax(dim=1),\n",
        "        )\n",
        "\n",
        "    def forward(self, x):\n",
        "        x = self.features(x)\n",
        "        x = torch.flatten(x, 1)\n",
        "        x = self.classifier(x)\n",
        "\n",
        "        return x"
      ],
      "execution_count": 4,
      "outputs": []
    },
    {
      "cell_type": "code",
      "metadata": {
        "id": "i4wh-EKWbAiM"
      },
      "source": [
        "nll_loss = nn.NLLLoss()"
      ],
      "execution_count": 5,
      "outputs": []
    },
    {
      "cell_type": "code",
      "metadata": {
        "id": "DcX1O6AZbEWi"
      },
      "source": [
        "# 計算を実行するデバイスを選択する。\n",
        "# CUDA が利用可能な場合は、GPU、そうでない場合は CPU を選択する。\n",
        "device = torch.device(\"cuda\" if torch.cuda.is_available() else \"cpu\")\n",
        "\n",
        "# モデルを計算を実行するデバイスに転送する。\n",
        "model = Net().to(device)"
      ],
      "execution_count": 6,
      "outputs": []
    },
    {
      "cell_type": "code",
      "metadata": {
        "id": "dnBWiC4gbFnX"
      },
      "source": [
        "# Optimizer を作成する。\n",
        "optim = torch.optim.Adam(model.parameters())"
      ],
      "execution_count": 7,
      "outputs": []
    },
    {
      "cell_type": "code",
      "metadata": {
        "id": "V3QzDCwSbHeO"
      },
      "source": [
        "def train(model, device, data_loader, optim):\n",
        "    \"\"\"\n",
        "    1エポック分の学習を行う。\n",
        "        :param model: モデル\n",
        "        :param device: デバイス\n",
        "        :param data_loader: Data Loader\n",
        "        :param optim: Optimizer\n",
        "    \"\"\"\n",
        "    # モデルを学習モードに設定する。\n",
        "    model.train()\n",
        "\n",
        "    total_loss = 0\n",
        "    total_correct = 0\n",
        "    for data, target in data_loader:\n",
        "        # データ及びラベルを計算を実行するデバイスに転送する。\n",
        "        data, target = data.to(device), target.to(device)\n",
        "\n",
        "        # 順伝搬を行う。\n",
        "        output = model(data)\n",
        "\n",
        "        # 損失関数の値を計算する。\n",
        "        loss = nll_loss(output, target)\n",
        "        total_loss += float(loss)\n",
        "\n",
        "        # 逆伝搬を行う。\n",
        "        optim.zero_grad()\n",
        "        loss.backward()\n",
        "\n",
        "        # パラメータを更新する。\n",
        "        optim.step()\n",
        "\n",
        "        # 確率の最も高いクラスを予測ラベルとする。\n",
        "        pred_target = output.argmax(dim=1)\n",
        "\n",
        "        # 正答数を計算する。\n",
        "        total_correct += int((pred_target == target).sum())\n",
        "\n",
        "    # 損失関数の値の平均及び精度を計算する。\n",
        "    avg_loss = total_loss / len(data_loader.dataset)\n",
        "    accuracy = total_correct / len(data_loader.dataset)\n",
        "\n",
        "    return avg_loss, accuracy"
      ],
      "execution_count": 8,
      "outputs": []
    },
    {
      "cell_type": "code",
      "metadata": {
        "id": "4OnVs2xUbJeN"
      },
      "source": [
        "def test(model, device, data_loader):\n",
        "    \"\"\"\n",
        "    テストデータに対する損失の平均及び精度を計算する。\n",
        "        :param model: モデル\n",
        "        :param device: デバイス\n",
        "        :param data_loader: Data Loader\n",
        "    \"\"\"\n",
        "    # モデルをテストモードに設定する。\n",
        "    model.eval()\n",
        "\n",
        "    with torch.no_grad():\n",
        "        total_loss = 0\n",
        "        total_correct = 0\n",
        "        for data, target in data_loader:\n",
        "            # データ及びラベルを計算を実行するデバイスに転送する。\n",
        "            data, target = data.to(device), target.to(device)\n",
        "\n",
        "            # 順伝搬する。\n",
        "            output = model(data)\n",
        "\n",
        "            # 損失を計算する。\n",
        "            loss = nll_loss(output, target)\n",
        "            total_loss += float(loss)\n",
        "\n",
        "            # 確率の最も高いクラスを予測ラベルとする。\n",
        "            pred_target = output.argmax(dim=1)\n",
        "\n",
        "            # 正答数を計算する。\n",
        "            total_correct += int((pred_target == target).sum())\n",
        "\n",
        "    # 損失の平均及び精度を計算する。\n",
        "    avg_loss = total_loss / len(data_loader.dataset)\n",
        "    accuracy = total_correct / len(data_loader.dataset)\n",
        "\n",
        "    return avg_loss, accuracy"
      ],
      "execution_count": 9,
      "outputs": []
    },
    {
      "cell_type": "code",
      "metadata": {
        "colab": {
          "base_uri": "https://localhost:8080/"
        },
        "id": "vuuUqqAubLyc",
        "outputId": "07f60176-45c3-459c-eb2f-d45e02214984"
      },
      "source": [
        "n_epochs = 50\n",
        "\n",
        "history = defaultdict(list)\n",
        "for epoch in range(n_epochs):\n",
        "    # 1エポック分、学習する。\n",
        "    train_loss, train_accuracy = train(model, device, train_data_loader, optim)\n",
        "    history[\"train_loss\"].append(train_loss)\n",
        "    history[\"train_accuracy\"].append(train_accuracy)\n",
        "\n",
        "    # 評価する。\n",
        "    test_loss, test_accuracy = test(model, device, test_data_loader)\n",
        "    history[\"test_loss\"].append(test_loss)\n",
        "    history[\"test_accuracy\"].append(test_accuracy)\n",
        "\n",
        "    print(\n",
        "        f\"epoch {epoch + 1} \"\n",
        "        f\"[train] loss: {train_loss:.6f}, accuracy: {train_accuracy:.0%} \"\n",
        "        f\"[test] loss: {test_loss:.6f}, accuracy: {test_accuracy:.0%}\"\n",
        "    )"
      ],
      "execution_count": 10,
      "outputs": [
        {
          "output_type": "stream",
          "text": [
            "epoch 1 [train] loss: 0.009423, accuracy: 78% [test] loss: 0.006133, accuracy: 85%\n",
            "epoch 2 [train] loss: 0.006516, accuracy: 85% [test] loss: 0.005272, accuracy: 87%\n",
            "epoch 3 [train] loss: 0.005651, accuracy: 87% [test] loss: 0.004678, accuracy: 89%\n",
            "epoch 4 [train] loss: 0.005194, accuracy: 88% [test] loss: 0.004339, accuracy: 90%\n",
            "epoch 5 [train] loss: 0.004902, accuracy: 89% [test] loss: 0.004208, accuracy: 90%\n",
            "epoch 6 [train] loss: 0.004617, accuracy: 89% [test] loss: 0.004005, accuracy: 91%\n",
            "epoch 7 [train] loss: 0.004398, accuracy: 90% [test] loss: 0.003875, accuracy: 91%\n",
            "epoch 8 [train] loss: 0.004216, accuracy: 90% [test] loss: 0.003717, accuracy: 91%\n",
            "epoch 9 [train] loss: 0.004073, accuracy: 91% [test] loss: 0.003745, accuracy: 91%\n",
            "epoch 10 [train] loss: 0.003966, accuracy: 91% [test] loss: 0.003716, accuracy: 91%\n",
            "epoch 11 [train] loss: 0.003895, accuracy: 91% [test] loss: 0.003515, accuracy: 92%\n",
            "epoch 12 [train] loss: 0.003746, accuracy: 91% [test] loss: 0.003521, accuracy: 92%\n",
            "epoch 13 [train] loss: 0.003693, accuracy: 91% [test] loss: 0.003476, accuracy: 92%\n",
            "epoch 14 [train] loss: 0.003616, accuracy: 91% [test] loss: 0.003422, accuracy: 92%\n",
            "epoch 15 [train] loss: 0.003520, accuracy: 92% [test] loss: 0.003487, accuracy: 92%\n",
            "epoch 16 [train] loss: 0.003460, accuracy: 92% [test] loss: 0.003473, accuracy: 92%\n",
            "epoch 17 [train] loss: 0.003416, accuracy: 92% [test] loss: 0.003475, accuracy: 92%\n",
            "epoch 18 [train] loss: 0.003379, accuracy: 92% [test] loss: 0.003329, accuracy: 92%\n",
            "epoch 19 [train] loss: 0.003340, accuracy: 92% [test] loss: 0.003321, accuracy: 92%\n",
            "epoch 20 [train] loss: 0.003235, accuracy: 92% [test] loss: 0.003266, accuracy: 93%\n",
            "epoch 21 [train] loss: 0.003218, accuracy: 92% [test] loss: 0.003323, accuracy: 92%\n",
            "epoch 22 [train] loss: 0.003203, accuracy: 92% [test] loss: 0.003384, accuracy: 92%\n",
            "epoch 23 [train] loss: 0.003156, accuracy: 92% [test] loss: 0.003289, accuracy: 93%\n",
            "epoch 24 [train] loss: 0.003067, accuracy: 93% [test] loss: 0.003464, accuracy: 92%\n",
            "epoch 25 [train] loss: 0.003024, accuracy: 93% [test] loss: 0.003321, accuracy: 92%\n",
            "epoch 26 [train] loss: 0.002994, accuracy: 93% [test] loss: 0.003357, accuracy: 92%\n",
            "epoch 27 [train] loss: 0.002970, accuracy: 93% [test] loss: 0.003470, accuracy: 92%\n",
            "epoch 28 [train] loss: 0.002938, accuracy: 93% [test] loss: 0.003338, accuracy: 92%\n",
            "epoch 29 [train] loss: 0.002915, accuracy: 93% [test] loss: 0.003516, accuracy: 92%\n",
            "epoch 30 [train] loss: 0.002899, accuracy: 93% [test] loss: 0.003368, accuracy: 92%\n",
            "epoch 31 [train] loss: 0.002860, accuracy: 93% [test] loss: 0.003438, accuracy: 92%\n",
            "epoch 32 [train] loss: 0.002818, accuracy: 93% [test] loss: 0.003255, accuracy: 93%\n",
            "epoch 33 [train] loss: 0.002843, accuracy: 93% [test] loss: 0.003356, accuracy: 92%\n",
            "epoch 34 [train] loss: 0.002776, accuracy: 93% [test] loss: 0.003287, accuracy: 93%\n",
            "epoch 35 [train] loss: 0.002774, accuracy: 93% [test] loss: 0.003240, accuracy: 93%\n",
            "epoch 36 [train] loss: 0.002728, accuracy: 93% [test] loss: 0.003276, accuracy: 93%\n",
            "epoch 37 [train] loss: 0.002719, accuracy: 93% [test] loss: 0.003404, accuracy: 92%\n",
            "epoch 38 [train] loss: 0.002717, accuracy: 93% [test] loss: 0.003337, accuracy: 93%\n",
            "epoch 39 [train] loss: 0.002662, accuracy: 94% [test] loss: 0.003208, accuracy: 93%\n",
            "epoch 40 [train] loss: 0.002667, accuracy: 94% [test] loss: 0.003201, accuracy: 93%\n",
            "epoch 41 [train] loss: 0.002639, accuracy: 94% [test] loss: 0.003204, accuracy: 93%\n",
            "epoch 42 [train] loss: 0.002605, accuracy: 94% [test] loss: 0.003159, accuracy: 93%\n",
            "epoch 43 [train] loss: 0.002599, accuracy: 94% [test] loss: 0.003170, accuracy: 93%\n",
            "epoch 44 [train] loss: 0.002576, accuracy: 94% [test] loss: 0.003180, accuracy: 93%\n",
            "epoch 45 [train] loss: 0.002559, accuracy: 94% [test] loss: 0.003371, accuracy: 93%\n",
            "epoch 46 [train] loss: 0.002550, accuracy: 94% [test] loss: 0.003213, accuracy: 93%\n",
            "epoch 47 [train] loss: 0.002560, accuracy: 94% [test] loss: 0.003175, accuracy: 93%\n",
            "epoch 48 [train] loss: 0.002500, accuracy: 94% [test] loss: 0.003172, accuracy: 93%\n",
            "epoch 49 [train] loss: 0.002508, accuracy: 94% [test] loss: 0.003153, accuracy: 93%\n",
            "epoch 50 [train] loss: 0.002475, accuracy: 94% [test] loss: 0.003130, accuracy: 93%\n"
          ],
          "name": "stdout"
        }
      ]
    },
    {
      "cell_type": "code",
      "metadata": {
        "colab": {
          "base_uri": "https://localhost:8080/",
          "height": 241
        },
        "id": "cc68rRrMbOCm",
        "outputId": "f1d156fa-30d0-44bb-f68c-8e782fd84e98"
      },
      "source": [
        "epochs = np.arange(1, n_epochs + 1)\n",
        "\n",
        "fig, [ax1, ax2] = plt.subplots(1, 2, figsize=(8, 3))\n",
        "\n",
        "# 損失の推移\n",
        "ax1.set_title(\"Loss\")\n",
        "ax1.plot(epochs, history[\"train_loss\"], label=\"train\")\n",
        "ax1.plot(epochs, history[\"test_loss\"], label=\"test\")\n",
        "ax1.set_xlabel(\"Epoch\")\n",
        "ax1.legend()\n",
        "\n",
        "# 精度の推移\n",
        "ax2.set_title(\"Accuracy\")\n",
        "ax2.plot(epochs, history[\"train_accuracy\"], label=\"train\")\n",
        "ax2.plot(epochs, history[\"test_accuracy\"], label=\"test\")\n",
        "ax2.set_xlabel(\"Epoch\")\n",
        "ax2.legend()\n",
        "\n",
        "plt.show()"
      ],
      "execution_count": 11,
      "outputs": [
        {
          "output_type": "display_data",
          "data": {
            "image/png": "[encoded data removed]",
            "text/plain": [
              "<Figure size 576x216 with 2 Axes>"
            ]
          },
          "metadata": {
            "tags": [],
            "needs_background": "light"
          }
        }
      ]
    },
    {
      "cell_type": "code",
      "metadata": {
        "id": "eO8LxZfYbQx_"
      },
      "source": [
        ""
      ],
      "execution_count": null,
      "outputs": []
    }
  ]
}